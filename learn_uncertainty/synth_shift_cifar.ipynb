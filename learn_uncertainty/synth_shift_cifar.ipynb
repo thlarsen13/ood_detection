{
 "cells": [
  {
   "cell_type": "code",
   "execution_count": null,
   "metadata": {},
   "outputs": [],
   "source": [
    "from scipy.io import loadmat\n",
    "import tensorflow as tf\n",
    "from tensorflow import keras\n",
    "from tensorflow.keras import layers\n",
    "import numpy as np\n",
    "from tensorflow.keras.losses import Loss\n",
    "from calibration_stats import ExpectedCalibrationError\n",
    "import time \n",
    "from matplotlib import pyplot as plt"
   ]
  },
  {
   "cell_type": "code",
   "execution_count": null,
   "metadata": {},
   "outputs": [],
   "source": [
    "import sys\n",
    "sys.path.insert(1, '/home/thlarsen/ood_detection')\n",
    "\n",
    "from helper import load_cifar_c, load_cifar_model, rgb_img_to_vec, load_cifar_c_sev\n"
   ]
  },
  {
   "cell_type": "code",
   "execution_count": null,
   "metadata": {},
   "outputs": [],
   "source": [
    "data_by_sev = load_cifar_c_sev(\"contrast\")"
   ]
  },
  {
   "cell_type": "code",
   "execution_count": null,
   "metadata": {},
   "outputs": [],
   "source": [
    "A=1\n",
    "B=60000\n",
    "x=0\n",
    "\n",
    "fig, axes = plt.subplots(nrows=1, ncols=6, figsize=(32, 32))\n",
    "fig.tight_layout(pad=3.0)\n",
    "\n",
    "for i in range(A, A+B, 10000): \n",
    "    \n",
    "    print(f'label={labels[i]}, sev={sev[i]}')\n",
    "    axes[x].imshow(data[i])\n",
    "#     axes[x].title.set_text(f'sev={sev[i]}')\n",
    "#     ax.set_title(f'sev={sev[i]}', fontdict={'fontsize': 15, 'fontweight': 'medium'})\n",
    "#     axes.set_fontsize(20)\n",
    "\n",
    "    x+=1\n",
    "#     plt.show()\n",
    "    "
   ]
  },
  {
   "cell_type": "code",
   "execution_count": null,
   "metadata": {},
   "outputs": [],
   "source": [
    "model = load_cifar_model(lr=.001, w=.1) "
   ]
  },
  {
   "cell_type": "code",
   "execution_count": null,
   "metadata": {
    "scrolled": false
   },
   "outputs": [],
   "source": [
    "lr=.001\n",
    "w=.5\n",
    "prefix = '/home/thlarsen/ood_detection/learn_uncertainty/'\n",
    "\n",
    "model_save_path = f'{prefix}saved_weights/cifar_calibrate/2_cal(lr={lr})(w={w})'\n",
    "\n",
    "model = keras.models.load_model(model_save_path)\n"
   ]
  },
  {
   "cell_type": "code",
   "execution_count": null,
   "metadata": {},
   "outputs": [],
   "source": [
    "acc_fn = keras.metrics.SparseCategoricalAccuracy()\n",
    "ece = ExpectedCalibrationError()"
   ]
  },
  {
   "cell_type": "code",
   "execution_count": null,
   "metadata": {},
   "outputs": [],
   "source": [
    "acc = []\n",
    "ece = []\n",
    "\n",
    "acc_fn = keras.metrics.Accuracy()\n",
    "ECE = ExpectedCalibrationError()\n",
    "\n",
    "for sev in data_by_sev.keys(): \n",
    "    data_s, labels_s = data_by_sev[sev]\n",
    "\n",
    "\n",
    "    preds = model.predict(data_s)\n",
    "    acc.append(acc_fn(labels_s, tf.argmax(preds, axis=1)))\n",
    "    ece.append(ECE.call(labels_s, preds))\n",
    "    print(f\" acc = {acc[-1]}\")\n",
    "    print(f\" ece = {ece[-1]}\")\n"
   ]
  },
  {
   "cell_type": "code",
   "execution_count": null,
   "metadata": {},
   "outputs": [],
   "source": [
    "\n",
    "\n",
    "### Bar plots of a fixed model \n",
    "plt.bar(range(0, 6), acc, color ='maroon',\n",
    "        width = 0.4)\n",
    " \n",
    "plt.xlabel(\"Shift Intensity\")\n",
    "plt.ylabel(\"Accuracy\")\n",
    "plt.show()\n",
    "\n",
    "plt.bar(range(0, 6), ece, color ='blue',\n",
    "        width = 0.4)\n",
    " \n",
    "plt.xlabel(\"Shift Intensity\")\n",
    "plt.ylabel(\"ECE\")\n",
    "plt.title(\"ECE with shift\")\n",
    "plt.show()\n",
    "\n",
    "# for sev in range(5): \n",
    "    \n",
    "#     print(f'label={labels[i]}, sev={sev[i]}')\n",
    "#     axes[x].imshow(data[i])\n",
    "#     axes[x].title.set_text(f'sev={sev[i]}')\n",
    "#     ax.set_title(f'sev={sev[i]}', fontdict={'fontsize': 15, 'fontweight': 'medium'})\n",
    "#     axes.set_fontsize(20)\n",
    "\n",
    "#     x+=1\n",
    "#     plt.show()"
   ]
  },
  {
   "cell_type": "code",
   "execution_count": null,
   "metadata": {},
   "outputs": [],
   "source": [
    "### line plots to compare for fixed model\n",
    "# plt.bar(range(1, 6), acc, color ='maroon',\n",
    "x = range(6)\n",
    "\n",
    "#test arrays for graphing while waiting for results\n",
    "acc = [1 - (x_v/10) for x_v in x]\n",
    "ece = [(x_v/10) for x_v in x]\n",
    "ece2 = [(x_v/10)+.1 for x_v in x]\n",
    "\n",
    "fig = plt.figure()\n",
    "ax = plt.axes()\n",
    "ax.plot(x, ece2, color='green', label='no calibration')\n",
    "ax.plot(x, ece, color='blue', label='cal on train')\n",
    "ax.plot(x, acc,color='red', label='cal on shifted')\n",
    "plt.xlabel(\"Shift Intensity\")\n",
    "plt.ylabel(\"Accuracy\")\n",
    "plt.legend()\n",
    "plt.title(\"Results of different calibration methods\")\n",
    "plt.show()\n",
    "\n",
    "\n"
   ]
  },
  {
   "cell_type": "code",
   "execution_count": null,
   "metadata": {},
   "outputs": [],
   "source": [
    "from helper import distribution_shifts \n",
    "\n",
    "for shift in distribution_shifts: \n",
    "    data, labels, sev = load_cifar_c_sev(shift)\n",
    "    step = 10000\n",
    "    data_by_sev = {}\n",
    "    for i in range(0, data.shape[0], step): \n",
    "        data_by_sev[sev[i]] = [data[i:i+step], labels[i:i+step]]\n",
    "        \n",
    "        acc = []\n",
    "        ece = []\n",
    "\n",
    "        acc_fn = keras.metrics.Accuracy()\n",
    "        ECE = ExpectedCalibrationError()\n",
    "\n",
    "        for sev in data_by_sev.keys(): \n",
    "            data_s, labels_s = data_by_sev[sev]\n",
    "\n",
    "\n",
    "            preds = model.predict(data_s)\n",
    "            acc.append(acc_fn(labels_s, tf.argmax(preds, axis=1)))\n",
    "            ece.append(ECE.call(labels_s, preds))\n",
    "            print(f\" acc = {acc[-1]}\")\n",
    "            print(f\" ece = {ece[-1]}\")"
   ]
  }
 ],
 "metadata": {
  "kernelspec": {
   "display_name": "Python 3",
   "language": "python",
   "name": "python3"
  },
  "language_info": {
   "codemirror_mode": {
    "name": "ipython",
    "version": 3
   },
   "file_extension": ".py",
   "mimetype": "text/x-python",
   "name": "python",
   "nbconvert_exporter": "python",
   "pygments_lexer": "ipython3",
   "version": "3.6.9"
  }
 },
 "nbformat": 4,
 "nbformat_minor": 4
}
