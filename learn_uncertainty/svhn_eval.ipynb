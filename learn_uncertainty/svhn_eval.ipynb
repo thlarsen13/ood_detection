{
 "cells": [
  {
   "cell_type": "code",
   "execution_count": 1,
   "metadata": {},
   "outputs": [],
   "source": [
    "from scipy.io import loadmat\n",
    "import tensorflow as tf\n",
    "from tensorflow import keras\n",
    "from tensorflow.keras import layers\n",
    "import numpy as np\n",
    "from tensorflow.keras.losses import Loss\n",
    "from calibration_stats import ExpectedCalibrationError\n",
    "import time \n",
    "from matplotlib import pyplot as plt\n",
    "\n",
    "import sys\n",
    "sys.path.insert(1, '/home/thlarsen/ood_detection')\n",
    "\n",
    "from helper import load_dataset_sev, load_dataset_c, load_mnist_model, rgb_img_to_vec\n",
    "\n"
   ]
  },
  {
   "cell_type": "code",
   "execution_count": 2,
   "metadata": {},
   "outputs": [
    {
     "name": "stdout",
     "output_type": "stream",
     "text": [
      "(26032, 32, 32, 3)\n",
      "(26032, 1)\n",
      "(73257, 32, 32, 3)\n"
     ]
    }
   ],
   "source": [
    "train_raw = loadmat('/home/thlarsen/ood_detection/learn_uncertainty/datasets/svhndataset/train_32x32.mat')\n",
    "test_raw = loadmat('/home/thlarsen/ood_detection/learn_uncertainty/datasets/svhndataset/test_32x32.mat')\n",
    "\n",
    "\n",
    "N=200\n",
    "\n",
    "x_train_raw = np.array(train_raw['X'])\n",
    "x_test_raw = np.array(test_raw['X'])\n",
    "\n",
    "x_train_raw = np.moveaxis(x_train_raw, -1, 0)\n",
    "x_test_raw = np.moveaxis(x_test_raw, -1, 0)\n",
    "\n",
    "y_train = train_raw['y']\n",
    "y_test = test_raw['y']\n"
   ]
  },
  {
   "cell_type": "code",
   "execution_count": 22,
   "metadata": {},
   "outputs": [
    {
     "name": "stdout",
     "output_type": "stream",
     "text": [
      "(10000, 3072)\n"
     ]
    }
   ],
   "source": [
    "(_, _), (x_test_m, y_test_m) = keras.datasets.mnist.load_data()\n",
    "\n",
    "# x_train = np.pad(x_train, ((0,0),(2,2),(2,2)), 'constant')\n",
    "x_test_m = np.pad(x_test_m, ((0,0),(2,2),(2,2)), 'constant')\n",
    "\n",
    "# print(x_train.shape)\n",
    "\n",
    "# x_train = x_train.reshape((-1, 32, 32, 1)).repeat(3, axis=3)\n",
    "x_test_m = x_test_m.reshape((-1, 32, 32, 1)).repeat(3, axis=3).reshape(-1, 3072)\n",
    "print(x_test_m.shape)\n",
    "\n",
    "# print(x_train.shape)\n",
    "\n",
    "# x_train = bnn_cast(x_train)\n",
    "\n",
    "\n",
    "# Prepare the training dataset.\n",
    "test_mnist = tf.data.Dataset.from_tensor_slices((x_test_m, y_test_m))\n",
    "test_mnist = test_mnist.shuffle(buffer_size=1024).batch(batch_size=64)"
   ]
  },
  {
   "cell_type": "code",
   "execution_count": 8,
   "metadata": {},
   "outputs": [
    {
     "name": "stdout",
     "output_type": "stream",
     "text": [
      "(73257, 3072)\n"
     ]
    }
   ],
   "source": [
    "x_train = x_train_raw.reshape(-1, 3072)\n",
    "x_test = x_test_raw.reshape(-1, 3072)\n",
    "\n",
    "\n",
    "test_dataset = tf.data.Dataset.from_tensor_slices((x_test, y_test))\n",
    "test_dataset = test_dataset.shuffle(buffer_size=1024).batch(batch_size=64)\n"
   ]
  },
  {
   "cell_type": "code",
   "execution_count": 16,
   "metadata": {},
   "outputs": [
    {
     "name": "stdout",
     "output_type": "stream",
     "text": [
      "WARNING:tensorflow:No training configuration found in save file, so the model was *not* compiled. Compile it manually.\n",
      "WARNING:tensorflow:No training configuration found in save file, so the model was *not* compiled. Compile it manually.\n",
      "WARNING:tensorflow:No training configuration found in save file, so the model was *not* compiled. Compile it manually.\n"
     ]
    }
   ],
   "source": [
    "model1 = load_mnist_model(lr=1e-4, w=.1,model_arch='seq', train_alg='ece') \n",
    "model2 = load_mnist_model(lr=1e-4, w=.1,model_arch='seq', train_alg='ece_shift') \n",
    "model3 = load_mnist_model(lr=1e-4, w=0,model_arch='seq', train_alg='ece') \n"
   ]
  },
  {
   "cell_type": "code",
   "execution_count": 23,
   "metadata": {},
   "outputs": [
    {
     "name": "stdout",
     "output_type": "stream",
     "text": [
      "tf.Tensor(0.9426, shape=(), dtype=float32)\n",
      "tf.Tensor(0.9615, shape=(), dtype=float32)\n",
      "tf.Tensor(0.9522, shape=(), dtype=float32)\n"
     ]
    }
   ],
   "source": [
    "for model in [model1, model2, model3]:\n",
    "    acc_fn = keras.metrics.SparseCategoricalAccuracy()\n",
    "\n",
    "    for step, (x_batch, y_batch) in enumerate(test_mnist):\n",
    "        y_preds = model.predict(x_batch)\n",
    "        acc_fn.update_state(y_batch, y_preds)\n",
    "    print(acc_fn.result())"
   ]
  },
  {
   "cell_type": "code",
   "execution_count": null,
   "metadata": {},
   "outputs": [],
   "source": []
  }
 ],
 "metadata": {
  "kernelspec": {
   "display_name": "Python 3",
   "language": "python",
   "name": "python3"
  },
  "language_info": {
   "codemirror_mode": {
    "name": "ipython",
    "version": 3
   },
   "file_extension": ".py",
   "mimetype": "text/x-python",
   "name": "python",
   "nbconvert_exporter": "python",
   "pygments_lexer": "ipython3",
   "version": "3.6.9"
  }
 },
 "nbformat": 4,
 "nbformat_minor": 4
}
