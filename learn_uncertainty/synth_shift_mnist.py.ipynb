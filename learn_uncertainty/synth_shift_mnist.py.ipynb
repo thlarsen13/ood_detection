{
 "cells": [
  {
   "cell_type": "code",
   "execution_count": null,
   "metadata": {},
   "outputs": [],
   "source": [
    "from scipy.io import loadmat\n",
    "import tensorflow as tf\n",
    "from tensorflow import keras\n",
    "from tensorflow.keras import layers\n",
    "import numpy as np\n",
    "from tensorflow.keras.losses import Loss\n",
    "from calibration_stats import ExpectedCalibrationError\n",
    "import time \n",
    "from matplotlib import pyplot as plt"
   ]
  },
  {
   "cell_type": "code",
   "execution_count": null,
   "metadata": {},
   "outputs": [],
   "source": [
    "import sys\n",
    "sys.path.insert(1, '/home/thlarsen/ood_detection')\n",
    "\n",
    "from helper import load_mnist_c, load_mnist_model, rgb_img_to_vec\n"
   ]
  },
  {
   "cell_type": "code",
   "execution_count": null,
   "metadata": {},
   "outputs": [],
   "source": [
    "data, labels, sev = load_mnist_c('contrast')\n",
    "step = 10000\n",
    "mnist_by_sev = {}\n",
    "for i in range(0, data.shape[0], step): \n",
    "    mnist_by_sev[sev[i]] = [data[i:i+step], labels[i:i+step]]"
   ]
  },
  {
   "cell_type": "code",
   "execution_count": null,
   "metadata": {},
   "outputs": [],
   "source": [
    "A=0\n",
    "B=50000\n",
    "x=0\n",
    "\n",
    "fig, axes = plt.subplots(nrows=1, ncols=5, figsize=(32, 32))\n",
    "fig.tight_layout(pad=3.0)\n",
    "\n",
    "for i in range(A, A+B, 10000): \n",
    "    \n",
    "#     print(f'label={labels[i]}, sev={sev[i]}')\n",
    "    axes[x].imshow(data[i])\n",
    "#     axes[x].title.set_text(f'sev={sev[i]}')\n",
    "#     ax.set_title(f'sev={sev[i]}', fontdict={'fontsize': 15, 'fontweight': 'medium'})\n",
    "#     axes.set_fontsize(20)\n",
    "\n",
    "    x+=1\n",
    "#     plt.show()\n",
    "    "
   ]
  },
  {
   "cell_type": "code",
   "execution_count": null,
   "metadata": {},
   "outputs": [],
   "source": [
    "model = load_mnist_model(lr=1e-5, w=.1) "
   ]
  },
  {
   "cell_type": "code",
   "execution_count": null,
   "metadata": {},
   "outputs": [],
   "source": [
    "acc_fn = keras.metrics.SparseCategoricalAccuracy()\n",
    "ece = ExpectedCalibrationError()"
   ]
  },
  {
   "cell_type": "code",
   "execution_count": null,
   "metadata": {},
   "outputs": [],
   "source": [
    "acc = []\n",
    "ece = []\n",
    "\n",
    "acc_fn = keras.metrics.Accuracy()\n",
    "ECE = ExpectedCalibrationError()\n",
    "\n",
    "for sev in mnist_by_sev.keys(): \n",
    "    data_s, labels_s = mnist_by_sev[sev]\n",
    "    data_s = rgb_img_to_vec(data_s)\n",
    "\n",
    "    preds = model.predict(np.reshape(data_s, (-1, 1024)))\n",
    "    acc.append(acc_fn(labels_s, tf.argmax(preds, axis=1)))\n",
    "    ece.append(ECE.call(labels_s, preds))\n",
    "    print(f\" acc = {acc[-1]}\")\n",
    "    print(f\" ece = {ece[-1]}\")\n"
   ]
  },
  {
   "cell_type": "code",
   "execution_count": null,
   "metadata": {},
   "outputs": [],
   "source": [
    "if len(acc) == 5:\n",
    "    acc = [.98] + acc \n",
    "    ece = [.04] + ece\n",
    "\n",
    "plt.bar(range(0, 6), acc, color ='maroon',\n",
    "        width = 0.4)\n",
    " \n",
    "plt.xlabel(\"Shift Intensity\")\n",
    "plt.ylabel(\"Accuracy\")\n",
    "# plt.title(\"Students enrolled in different courses\")\n",
    "plt.show()\n",
    "\n",
    "# plot.plot(range(5), ece)\n",
    "plt.bar(range(0, 6), ece, color ='blue',\n",
    "        width = 0.4)\n",
    "plt.xlabel(\"Shift Intensity\")\n",
    "plt.ylabel(\"ECE\")\n",
    "plt.ylim(top=0.12)\n",
    "\n",
    "# plt.title(\"Students enrolled in different courses\")\n",
    "plt.show()\n",
    "\n",
    "# for sev in range(5): \n",
    "    \n",
    "#     print(f'label={labels[i]}, sev={sev[i]}')\n",
    "#     axes[x].imshow(data[i])\n",
    "#     axes[x].title.set_text(f'sev={sev[i]}')\n",
    "#     ax.set_title(f'sev={sev[i]}', fontdict={'fontsize': 15, 'fontweight': 'medium'})\n",
    "#     axes.set_fontsize(20)\n",
    "\n",
    "#     x+=1\n",
    "#     plt.show()"
   ]
  },
  {
   "cell_type": "code",
   "execution_count": null,
   "metadata": {},
   "outputs": [],
   "source": []
  }
 ],
 "metadata": {
  "kernelspec": {
   "display_name": "Python 3",
   "language": "python",
   "name": "python3"
  },
  "language_info": {
   "codemirror_mode": {
    "name": "ipython",
    "version": 3
   },
   "file_extension": ".py",
   "mimetype": "text/x-python",
   "name": "python",
   "nbconvert_exporter": "python",
   "pygments_lexer": "ipython3",
   "version": "3.6.9"
  }
 },
 "nbformat": 4,
 "nbformat_minor": 4
}
