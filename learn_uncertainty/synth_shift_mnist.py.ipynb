{
 "cells": [
  {
   "cell_type": "code",
   "execution_count": 1,
   "metadata": {},
   "outputs": [],
   "source": [
    "from scipy.io import loadmat\n",
    "import tensorflow as tf\n",
    "from tensorflow import keras\n",
    "from tensorflow.keras import layers\n",
    "import numpy as np\n",
    "from tensorflow.keras.losses import Loss\n",
    "from cal_error import ExpectedCalibrationError\n",
    "import time \n",
    "from matplotlib import pyplot as plt"
   ]
  },
  {
   "cell_type": "code",
   "execution_count": 2,
   "metadata": {},
   "outputs": [],
   "source": [
    "import sys\n",
    "sys.path.insert(1, '/home/thlarsen/ood_detection')\n",
    "\n",
    "from helper import load_mnist_c, load_mnist_model, rgb_img_to_vec\n",
    "from cal_error import ExpectedCalibrationError\n"
   ]
  },
  {
   "cell_type": "code",
   "execution_count": 3,
   "metadata": {},
   "outputs": [],
   "source": [
    "data, labels, sev = load_mnist_c('jpeg_compression')\n",
    "step = 10000\n",
    "mnist_by_sev = {}\n",
    "for i in range(0, data.shape[0], step): \n",
    "    mnist_by_sev[sev[i]] = [data[i:i+step], labels[i:i+step]]"
   ]
  },
  {
   "cell_type": "code",
   "execution_count": 4,
   "metadata": {},
   "outputs": [],
   "source": [
    "# A=0\n",
    "# B=50000\n",
    "# for i in range(A, A+B, 10000): \n",
    "#     print(f'label={labels[i]}, sev={sev[i]}')\n",
    "#     plt.imshow(data[i])\n",
    "#     plt.show()\n",
    "    "
   ]
  },
  {
   "cell_type": "code",
   "execution_count": 5,
   "metadata": {},
   "outputs": [
    {
     "name": "stdout",
     "output_type": "stream",
     "text": [
      "WARNING:tensorflow:No training configuration found in save file, so the model was *not* compiled. Compile it manually.\n"
     ]
    }
   ],
   "source": [
    "model = load_mnist_model() "
   ]
  },
  {
   "cell_type": "code",
   "execution_count": 6,
   "metadata": {},
   "outputs": [],
   "source": [
    "acc_fn = keras.metrics.SparseCategoricalAccuracy()\n",
    "ece = ExpectedCalibrationError()"
   ]
  },
  {
   "cell_type": "code",
   "execution_count": 8,
   "metadata": {},
   "outputs": [
    {
     "name": "stdout",
     "output_type": "stream",
     "text": [
      "(10000, 32, 32, 3)\n",
      " acc = 0.9229000210762024\n",
      " ece = 0.0007109181024134159\n",
      "(10000, 32, 32, 3)\n",
      " acc = 0.9232000112533569\n",
      " ece = 0.0005135383689776063\n",
      "(10000, 32, 32, 3)\n",
      " acc = 0.9251999855041504\n",
      " ece = 0.00034247158328071237\n",
      "(10000, 32, 32, 3)\n",
      " acc = 0.9236999750137329\n",
      " ece = 0.0005608948413282633\n",
      "(10000, 32, 32, 3)\n",
      " acc = 0.9243999719619751\n",
      " ece = 0.00039418574306182563\n"
     ]
    }
   ],
   "source": [
    "for sev in mnist_by_sev.keys(): \n",
    "    data_s, labels_s = mnist_by_sev[sev]\n",
    "    print(data_s.shape)\n",
    "    data_s = rgb_img_to_vec(data_s)\n",
    "\n",
    "    preds = model.predict(np.reshape(data_s, (-1, 1024)))\n",
    "    acc_fn = keras.metrics.Accuracy()\n",
    "    print(f\" acc = {acc_fn(labels_s, tf.argmax(preds, axis=1))}\")\n",
    "    ece = ExpectedCalibrationError()\n",
    "    print(f\" ece = {ece.call(labels_s, preds)}\")\n"
   ]
  },
  {
   "cell_type": "code",
   "execution_count": null,
   "metadata": {},
   "outputs": [],
   "source": []
  }
 ],
 "metadata": {
  "kernelspec": {
   "display_name": "Python 3",
   "language": "python",
   "name": "python3"
  },
  "language_info": {
   "codemirror_mode": {
    "name": "ipython",
    "version": 3
   },
   "file_extension": ".py",
   "mimetype": "text/x-python",
   "name": "python",
   "nbconvert_exporter": "python",
   "pygments_lexer": "ipython3",
   "version": "3.6.9"
  }
 },
 "nbformat": 4,
 "nbformat_minor": 4
}
